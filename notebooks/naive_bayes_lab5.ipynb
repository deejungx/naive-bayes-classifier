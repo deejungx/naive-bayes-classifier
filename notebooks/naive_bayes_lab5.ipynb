{
 "cells": [
  {
   "cell_type": "code",
   "execution_count": 1,
   "metadata": {},
   "outputs": [],
   "source": [
    "import pandas as pd\n",
    "import numpy as np"
   ]
  },
  {
   "cell_type": "code",
   "execution_count": 2,
   "metadata": {},
   "outputs": [],
   "source": [
    "data = pd.read_csv(\"../data/data.csv\")"
   ]
  },
  {
   "cell_type": "code",
   "execution_count": 3,
   "metadata": {},
   "outputs": [
    {
     "data": {
      "text/html": [
       "<div>\n",
       "<style scoped>\n",
       "    .dataframe tbody tr th:only-of-type {\n",
       "        vertical-align: middle;\n",
       "    }\n",
       "\n",
       "    .dataframe tbody tr th {\n",
       "        vertical-align: top;\n",
       "    }\n",
       "\n",
       "    .dataframe thead th {\n",
       "        text-align: right;\n",
       "    }\n",
       "</style>\n",
       "<table border=\"1\" class=\"dataframe\">\n",
       "  <thead>\n",
       "    <tr style=\"text-align: right;\">\n",
       "      <th></th>\n",
       "      <th>text</th>\n",
       "      <th>label</th>\n",
       "    </tr>\n",
       "  </thead>\n",
       "  <tbody>\n",
       "    <tr>\n",
       "      <th>0</th>\n",
       "      <td>Congrats, You have won!! reply to our sms for ...</td>\n",
       "      <td>spam</td>\n",
       "    </tr>\n",
       "    <tr>\n",
       "      <th>1</th>\n",
       "      <td>Congrats! 1 year special cinema pass for 2 is ...</td>\n",
       "      <td>spam</td>\n",
       "    </tr>\n",
       "    <tr>\n",
       "      <th>2</th>\n",
       "      <td>I am pleased to tell you that you are awarded ...</td>\n",
       "      <td>spam</td>\n",
       "    </tr>\n",
       "    <tr>\n",
       "      <th>3</th>\n",
       "      <td>Dont worry. I guess he is busy.</td>\n",
       "      <td>not spam</td>\n",
       "    </tr>\n",
       "    <tr>\n",
       "      <th>4</th>\n",
       "      <td>Going for dinner. msg you later.</td>\n",
       "      <td>not spam</td>\n",
       "    </tr>\n",
       "  </tbody>\n",
       "</table>\n",
       "</div>"
      ],
      "text/plain": [
       "                                                text     label\n",
       "0  Congrats, You have won!! reply to our sms for ...      spam\n",
       "1  Congrats! 1 year special cinema pass for 2 is ...      spam\n",
       "2  I am pleased to tell you that you are awarded ...      spam\n",
       "3                    Dont worry. I guess he is busy.  not spam\n",
       "4                   Going for dinner. msg you later.  not spam"
      ]
     },
     "execution_count": 3,
     "metadata": {},
     "output_type": "execute_result"
    }
   ],
   "source": [
    "data.head()"
   ]
  },
  {
   "cell_type": "code",
   "execution_count": 4,
   "metadata": {},
   "outputs": [],
   "source": [
    "import re"
   ]
  },
  {
   "cell_type": "code",
   "execution_count": 5,
   "metadata": {},
   "outputs": [
    {
     "name": "stdout",
     "output_type": "stream",
     "text": [
      "{'get', 'later', 'am', 'mobile', 'pleased', 'are', 'worry', 'going', 'a', 'nokia', 'is', 'free', 'won', 'special', 'sms', 'your', 'when', 'this', 'dont', 'congrats', 'pass', 'for', 'guess', 'have', 'to', 'will', 'our', 'cash', 'you', '1', 'some', 'cinema', 'with', 'up', 'busy', '2', 'i', 'that', 'claim', 'awarded', 'prize', '1500', 'call', 'yours', 'msg', 'bonus', 'he', 'ok', 'tell', 'reply', 'dinner', 'year', 'camcorder'}\n"
     ]
    }
   ],
   "source": [
    "vocabulary = set()\n",
    "for text in data['text']:\n",
    "    vocabulary.update(re.findall(r'\\w+', text.lower()))\n",
    "    print()\n",
    "print(vocabulary)"
   ]
  },
  {
   "cell_type": "code",
   "execution_count": 6,
   "metadata": {
    "scrolled": true
   },
   "outputs": [
    {
     "name": "stdout",
     "output_type": "stream",
     "text": [
      "53\n"
     ]
    }
   ],
   "source": [
    "vocab_len = len(vocabulary)\n",
    "print(vocab_len)"
   ]
  },
  {
   "cell_type": "code",
   "execution_count": 8,
   "metadata": {},
   "outputs": [
    {
     "data": {
      "text/html": [
       "<div>\n",
       "<style scoped>\n",
       "    .dataframe tbody tr th:only-of-type {\n",
       "        vertical-align: middle;\n",
       "    }\n",
       "\n",
       "    .dataframe tbody tr th {\n",
       "        vertical-align: top;\n",
       "    }\n",
       "\n",
       "    .dataframe thead th {\n",
       "        text-align: right;\n",
       "    }\n",
       "</style>\n",
       "<table border=\"1\" class=\"dataframe\">\n",
       "  <thead>\n",
       "    <tr style=\"text-align: right;\">\n",
       "      <th></th>\n",
       "      <th>text</th>\n",
       "      <th>label</th>\n",
       "    </tr>\n",
       "  </thead>\n",
       "  <tbody>\n",
       "    <tr>\n",
       "      <th>3</th>\n",
       "      <td>Dont worry. I guess he is busy.</td>\n",
       "      <td>not spam</td>\n",
       "    </tr>\n",
       "    <tr>\n",
       "      <th>4</th>\n",
       "      <td>Going for dinner. msg you later.</td>\n",
       "      <td>not spam</td>\n",
       "    </tr>\n",
       "    <tr>\n",
       "      <th>5</th>\n",
       "      <td>Ok, I will call you up when I get some cash.</td>\n",
       "      <td>not spam</td>\n",
       "    </tr>\n",
       "  </tbody>\n",
       "</table>\n",
       "</div>"
      ],
      "text/plain": [
       "                                           text     label\n",
       "3               Dont worry. I guess he is busy.  not spam\n",
       "4              Going for dinner. msg you later.  not spam\n",
       "5  Ok, I will call you up when I get some cash.  not spam"
      ]
     },
     "execution_count": 8,
     "metadata": {},
     "output_type": "execute_result"
    }
   ],
   "source": [
    "is_spam = data['label']==\"spam\"\n",
    "not_spam = data['label']==\"not spam\"\n",
    "\n",
    "spam_data = data[is_spam]\n",
    "not_spam_data = data[not_spam]\n",
    "\n",
    "spam_data\n",
    "not_spam_data"
   ]
  },
  {
   "cell_type": "code",
   "execution_count": 9,
   "metadata": {},
   "outputs": [
    {
     "name": "stdout",
     "output_type": "stream",
     "text": [
      "0.5\n"
     ]
    }
   ],
   "source": [
    "# probability of being spam\n",
    "p_spam = len(spam_data)/len(data)\n",
    "print(p_spam)"
   ]
  },
  {
   "cell_type": "code",
   "execution_count": 10,
   "metadata": {},
   "outputs": [
    {
     "name": "stdout",
     "output_type": "stream",
     "text": [
      "{'congrats': 2, 'you': 3, 'have': 1, 'won': 1, 'reply': 3, 'to': 6, 'our': 1, 'sms': 3, 'for': 2, 'a': 2, 'free': 2, 'nokia': 1, 'mobile': 1, 'camcorder': 1, '1': 1, 'year': 1, 'special': 1, 'cinema': 1, 'pass': 1, '2': 1, 'is': 1, 'yours': 1, 'this': 2, 'claim': 2, 'your': 2, 'prize': 3, 'i': 1, 'am': 1, 'pleased': 1, 'tell': 1, 'that': 1, 'are': 1, 'awarded': 1, 'with': 1, '1500': 1, 'bonus': 1}\n",
      "number of words: 56\n"
     ]
    }
   ],
   "source": [
    "total_words = list()\n",
    "for text in spam_data['text']:\n",
    "    total_words.extend(re.findall(r'\\w+', text.lower()))\n",
    "\n",
    "spam_dict = {word:total_words.count(word) for word in total_words}\n",
    "\n",
    "print(spam_dict)\n",
    "\n",
    "n_spam = len(total_words)\n",
    "print(\"number of words:\", n_spam)"
   ]
  },
  {
   "cell_type": "code",
   "execution_count": 11,
   "metadata": {},
   "outputs": [
    {
     "name": "stdout",
     "output_type": "stream",
     "text": [
      "{'get': 0.018691588785046728, 'later': 0.018691588785046728, 'am': 0.037383177570093455, 'mobile': 0.037383177570093455, 'pleased': 0.037383177570093455, 'are': 0.037383177570093455, 'worry': 0.018691588785046728, 'going': 0.018691588785046728, 'a': 0.056074766355140186, 'nokia': 0.037383177570093455, 'is': 0.037383177570093455, 'free': 0.056074766355140186, 'won': 0.037383177570093455, 'special': 0.037383177570093455, 'sms': 0.07476635514018691, 'your': 0.056074766355140186, 'when': 0.018691588785046728, 'this': 0.056074766355140186, 'dont': 0.018691588785046728, 'congrats': 0.056074766355140186, 'pass': 0.037383177570093455, 'for': 0.056074766355140186, 'guess': 0.018691588785046728, 'have': 0.037383177570093455, 'to': 0.1308411214953271, 'will': 0.018691588785046728, 'our': 0.037383177570093455, 'cash': 0.018691588785046728, 'you': 0.07476635514018691, '1': 0.037383177570093455, 'some': 0.018691588785046728, 'cinema': 0.037383177570093455, 'with': 0.037383177570093455, 'up': 0.018691588785046728, 'busy': 0.018691588785046728, '2': 0.037383177570093455, 'i': 0.037383177570093455, 'that': 0.037383177570093455, 'claim': 0.056074766355140186, 'awarded': 0.037383177570093455, 'prize': 0.07476635514018691, '1500': 0.037383177570093455, 'call': 0.018691588785046728, 'yours': 0.037383177570093455, 'msg': 0.018691588785046728, 'bonus': 0.037383177570093455, 'he': 0.018691588785046728, 'ok': 0.018691588785046728, 'tell': 0.037383177570093455, 'reply': 0.07476635514018691, 'dinner': 0.018691588785046728, 'year': 0.037383177570093455, 'camcorder': 0.037383177570093455}\n"
     ]
    }
   ],
   "source": [
    "nk_spam = dict()\n",
    "for word in vocabulary:\n",
    "    nk_spam[word] = (spam_dict.get(word, 0)+1)/(p_spam+vocab_len)\n",
    "\n",
    "print(nk_spam)"
   ]
  },
  {
   "cell_type": "code",
   "execution_count": 12,
   "metadata": {},
   "outputs": [
    {
     "name": "stdout",
     "output_type": "stream",
     "text": [
      "{'dont': 1, 'worry': 1, 'i': 3, 'guess': 1, 'he': 1, 'is': 1, 'busy': 1, 'going': 1, 'for': 1, 'dinner': 1, 'msg': 1, 'you': 2, 'later': 1, 'ok': 1, 'will': 1, 'call': 1, 'up': 1, 'when': 1, 'get': 1, 'some': 1, 'cash': 1}\n",
      "number of words: 24\n"
     ]
    }
   ],
   "source": [
    "# probability of not spam\n",
    "p_notspam = len(not_spam_data)/len(data)\n",
    "\n",
    "total_words = list()\n",
    "for text in not_spam_data['text']:\n",
    "    total_words.extend(re.findall(r'\\w+', text.lower()))\n",
    "\n",
    "notspam_dict = {word:total_words.count(word) for word in total_words}\n",
    "print(notspam_dict)\n",
    "\n",
    "n_notspam = len(total_words)\n",
    "print(\"number of words:\", n_notspam)"
   ]
  },
  {
   "cell_type": "code",
   "execution_count": 14,
   "metadata": {},
   "outputs": [
    {
     "name": "stdout",
     "output_type": "stream",
     "text": [
      "{'get': 0.037383177570093455, 'later': 0.037383177570093455, 'am': 0.018691588785046728, 'mobile': 0.018691588785046728, 'pleased': 0.018691588785046728, 'are': 0.018691588785046728, 'worry': 0.037383177570093455, 'going': 0.037383177570093455, 'a': 0.018691588785046728, 'nokia': 0.018691588785046728, 'is': 0.037383177570093455, 'free': 0.018691588785046728, 'won': 0.018691588785046728, 'special': 0.018691588785046728, 'sms': 0.018691588785046728, 'your': 0.018691588785046728, 'when': 0.037383177570093455, 'this': 0.018691588785046728, 'dont': 0.037383177570093455, 'congrats': 0.018691588785046728, 'pass': 0.018691588785046728, 'for': 0.037383177570093455, 'guess': 0.037383177570093455, 'have': 0.018691588785046728, 'to': 0.018691588785046728, 'will': 0.037383177570093455, 'our': 0.018691588785046728, 'cash': 0.037383177570093455, 'you': 0.056074766355140186, '1': 0.018691588785046728, 'some': 0.037383177570093455, 'cinema': 0.018691588785046728, 'with': 0.018691588785046728, 'up': 0.037383177570093455, 'busy': 0.037383177570093455, '2': 0.018691588785046728, 'i': 0.07476635514018691, 'that': 0.018691588785046728, 'claim': 0.018691588785046728, 'awarded': 0.018691588785046728, 'prize': 0.018691588785046728, '1500': 0.018691588785046728, 'call': 0.037383177570093455, 'yours': 0.018691588785046728, 'msg': 0.037383177570093455, 'bonus': 0.018691588785046728, 'he': 0.037383177570093455, 'ok': 0.037383177570093455, 'tell': 0.018691588785046728, 'reply': 0.018691588785046728, 'dinner': 0.037383177570093455, 'year': 0.018691588785046728, 'camcorder': 0.018691588785046728}\n"
     ]
    }
   ],
   "source": [
    "nk_notspam = dict()\n",
    "for word in vocabulary:\n",
    "    nk_notspam[word] = (notspam_dict.get(word, 0)+1)/(p_notspam+vocab_len)\n",
    "\n",
    "print(nk_notspam)"
   ]
  },
  {
   "cell_type": "code",
   "execution_count": 17,
   "metadata": {},
   "outputs": [
    {
     "name": "stdout",
     "output_type": "stream",
     "text": [
      "['I am busy. I will msg you later.', 'Congrats! You are awarded a free mobile.']\n"
     ]
    }
   ],
   "source": [
    "test_lines = list()\n",
    "with open(\"../data/test_data.txt\", \"r\") as fd:\n",
    "    test_lines = [line.rstrip() for line in fd.readlines()]\n",
    "print(test_lines)"
   ]
  },
  {
   "cell_type": "code",
   "execution_count": 16,
   "metadata": {},
   "outputs": [],
   "source": [
    "# used for getting key item for argmax value\n",
    "import operator"
   ]
  },
  {
   "cell_type": "code",
   "execution_count": 18,
   "metadata": {},
   "outputs": [
    {
     "name": "stdout",
     "output_type": "stream",
     "text": [
      "Classifying: \"I am busy. I will msg you later.\"\n"
     ]
    }
   ],
   "source": [
    "# Classify line 1\n",
    "test_one = test_lines[0]\n",
    "print(f'Classifying: \"{test_one}\"')\n",
    "\n",
    "test_words = re.findall(r'\\w+', test_one.lower())\n",
    "\n",
    "# test spam values\n",
    "test_spam_dict = dict()\n",
    "for word in test_words:\n",
    "    test_spam_dict[word] = (spam_dict.get(word, 0)+1)/(p_spam+vocab_len)\n",
    "\n",
    "# test notspam values\n",
    "test_notspam_dict = dict()\n",
    "for word in test_words:\n",
    "    test_notspam_dict[word] = (notspam_dict.get(word, 0)+1)/(p_notspam+vocab_len)"
   ]
  },
  {
   "cell_type": "code",
   "execution_count": 19,
   "metadata": {},
   "outputs": [
    {
     "data": {
      "text/plain": [
       "'not spam'"
      ]
     },
     "execution_count": 19,
     "metadata": {},
     "output_type": "execute_result"
    }
   ],
   "source": [
    "# y_spam\n",
    "y_spam = p_spam\n",
    "for key in test_spam_dict:\n",
    "    y_spam = y_spam * test_spam_dict[key]\n",
    "\n",
    "# y_notspam\n",
    "y_notspam = p_notspam\n",
    "for key in test_notspam_dict:\n",
    "    y_notspam = y_notspam * test_notspam_dict[key]\n",
    "\n",
    "#args\n",
    "y_args = {'spam': y_spam, 'not spam': y_notspam}\n",
    "\n",
    "# argmax\n",
    "max(y_args.items(), key=operator.itemgetter(1))[0]"
   ]
  },
  {
   "cell_type": "code",
   "execution_count": 21,
   "metadata": {},
   "outputs": [
    {
     "name": "stdout",
     "output_type": "stream",
     "text": [
      "Classifying: \"Congrats! You are awarded a free mobile.\"\n"
     ]
    },
    {
     "data": {
      "text/plain": [
       "'spam'"
      ]
     },
     "execution_count": 21,
     "metadata": {},
     "output_type": "execute_result"
    }
   ],
   "source": [
    "# Classify line 2\n",
    "test_two = test_lines[1]\n",
    "print(f'Classifying: \"{test_two}\"')\n",
    "\n",
    "test_words = re.findall(r'\\w+', test_two.lower())\n",
    "\n",
    "# test spam values\n",
    "test_spam_dict = dict()\n",
    "for word in test_words:\n",
    "    test_spam_dict[word] = (spam_dict.get(word, 0)+1)/(p_spam+vocab_len)\n",
    "\n",
    "# test notspam values\n",
    "test_notspam_dict = dict()\n",
    "for word in test_words:\n",
    "    test_notspam_dict[word] = (notspam_dict.get(word, 0)+1)/(p_notspam+vocab_len)\n",
    "\n",
    "# y_spam\n",
    "y_spam = p_spam\n",
    "for key in test_spam_dict:\n",
    "    y_spam = y_spam * test_spam_dict[key]\n",
    "\n",
    "# y_notspam\n",
    "y_notspam = p_notspam\n",
    "for key in test_notspam_dict:\n",
    "    y_notspam = y_notspam * test_notspam_dict[key]\n",
    "\n",
    "#args\n",
    "y_args = {'spam': y_spam, 'not spam': y_notspam}\n",
    "\n",
    "# argmax\n",
    "max(y_args.items(), key=operator.itemgetter(1))[0]"
   ]
  }
 ],
 "metadata": {
  "kernelspec": {
   "display_name": "Python 3",
   "language": "python",
   "name": "python3"
  },
  "language_info": {
   "codemirror_mode": {
    "name": "ipython",
    "version": 3
   },
   "file_extension": ".py",
   "mimetype": "text/x-python",
   "name": "python",
   "nbconvert_exporter": "python",
   "pygments_lexer": "ipython3",
   "version": "3.8.3"
  }
 },
 "nbformat": 4,
 "nbformat_minor": 4
}
